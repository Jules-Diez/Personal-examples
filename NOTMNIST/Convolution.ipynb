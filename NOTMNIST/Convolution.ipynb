{
 "cells": [
  {
   "cell_type": "markdown",
   "metadata": {
    "deletable": true,
    "editable": true
   },
   "source": [
    "# Table of contents"
   ]
  },
  {
   "cell_type": "markdown",
   "metadata": {
    "deletable": true,
    "editable": true
   },
   "source": [
    " - [Data Preparation](#Data-Preparation)\n",
    " - [Simple Convolution Network](#Simple-Convolution-Network)\n",
    " - [Advanced Convolution network](#Advanced-Convolution-network)\n",
    " - [Advanced Convolution network with Tensorboard (coming soon)](#Advanced-Convolution-network)"
   ]
  },
  {
   "cell_type": "code",
   "execution_count": 1,
   "metadata": {
    "collapsed": true,
    "deletable": true,
    "editable": true
   },
   "outputs": [],
   "source": [
    "from __future__ import print_function\n",
    "import numpy as np\n",
    "import tensorflow as tf\n",
    "from six.moves import cPickle as pickle\n",
    "import time"
   ]
  },
  {
   "cell_type": "markdown",
   "metadata": {
    "deletable": true,
    "editable": true
   },
   "source": [
    "## Data Preparation"
   ]
  },
  {
   "cell_type": "markdown",
   "metadata": {
    "deletable": true,
    "editable": true
   },
   "source": [
    "### Loading data"
   ]
  },
  {
   "cell_type": "code",
   "execution_count": 2,
   "metadata": {
    "collapsed": false,
    "deletable": true,
    "editable": true
   },
   "outputs": [
    {
     "name": "stdout",
     "output_type": "stream",
     "text": [
      "Training set (469090, 28, 28) (469090,)\n",
      "Validation set (60000, 28, 28) (60000,)\n",
      "Test set (18720, 28, 28) (18720,)\n"
     ]
    }
   ],
   "source": [
    "data_root = '.\\Data\\\\notmnist\\\\' # Change me to store data elsewhere\n",
    "pickle_file = 'notMNIST_valid_60k.pickle'\n",
    "\n",
    "with open(data_root+pickle_file, 'rb') as f:\n",
    "    save = pickle.load(f)\n",
    "    train_dataset = save['train_dataset']\n",
    "    train_labels = save['train_labels']\n",
    "    valid_dataset = save['valid_dataset']\n",
    "    valid_labels = save['valid_labels']\n",
    "    test_dataset = save['test_dataset']\n",
    "    test_labels = save['test_labels']\n",
    "    del save  # hint to help gc free up memory\n",
    "    print('Training set', train_dataset.shape, train_labels.shape)\n",
    "    print('Validation set', valid_dataset.shape, valid_labels.shape)\n",
    "    print('Test set', test_dataset.shape, test_labels.shape)"
   ]
  },
  {
   "cell_type": "markdown",
   "metadata": {
    "deletable": true,
    "editable": true
   },
   "source": [
    "### Reformating Data"
   ]
  },
  {
   "cell_type": "code",
   "execution_count": 3,
   "metadata": {
    "collapsed": false,
    "deletable": true,
    "editable": true
   },
   "outputs": [
    {
     "name": "stdout",
     "output_type": "stream",
     "text": [
      "Training set (469090, 28, 28, 1) (469090, 10)\n",
      "Validation set (60000, 28, 28, 1) (60000, 10)\n",
      "Test set (18720, 28, 28, 1) (18720, 10)\n"
     ]
    }
   ],
   "source": [
    "image_size = 28\n",
    "num_labels = 10\n",
    "num_channels = 1 # grayscale\n",
    "\n",
    "import numpy as np\n",
    "\n",
    "def reformat(dataset, labels):\n",
    "    dataset = dataset.reshape(\n",
    "        (-1, image_size, image_size, num_channels)).astype(np.float32)\n",
    "    labels = (np.arange(num_labels) == labels[:,None]).astype(np.float32)\n",
    "    return dataset, labels\n",
    "train_dataset, train_labels = reformat(train_dataset, train_labels)\n",
    "valid_dataset, valid_labels = reformat(valid_dataset, valid_labels)\n",
    "test_dataset, test_labels = reformat(test_dataset, test_labels)\n",
    "print('Training set', train_dataset.shape, train_labels.shape)\n",
    "print('Validation set', valid_dataset.shape, valid_labels.shape)\n",
    "print('Test set', test_dataset.shape, test_labels.shape)"
   ]
  },
  {
   "cell_type": "code",
   "execution_count": 4,
   "metadata": {
    "collapsed": true,
    "deletable": true,
    "editable": true
   },
   "outputs": [],
   "source": [
    "def accuracy(predictions, labels):\n",
    "    return (100.0 * np.sum(np.argmax(predictions, 1) == np.argmax(labels, 1))\n",
    "          / predictions.shape[0])"
   ]
  },
  {
   "cell_type": "markdown",
   "metadata": {
    "deletable": true,
    "editable": true
   },
   "source": [
    "## Simple Convolution Network"
   ]
  },
  {
   "cell_type": "code",
   "execution_count": 5,
   "metadata": {
    "collapsed": true,
    "deletable": true,
    "editable": true
   },
   "outputs": [],
   "source": [
    "def W_var(shape,stddev,name):\n",
    "    \"\"\"Create a weight variable with appropriate initialization.\"\"\"\n",
    "    initial = tf.truncated_normal(shape, stddev=stddev, name=name)\n",
    "    return tf.Variable(initial)"
   ]
  },
  {
   "cell_type": "code",
   "execution_count": 6,
   "metadata": {
    "collapsed": true,
    "deletable": true,
    "editable": true
   },
   "outputs": [],
   "source": [
    "def b_var(shape, value, name):\n",
    "    \"\"\"Create a bias variable with appropriate initialization.\"\"\"\n",
    "    initial = tf.constant(value, shape=shape, name=name)\n",
    "    return tf.Variable(initial)"
   ]
  },
  {
   "cell_type": "code",
   "execution_count": 7,
   "metadata": {
    "collapsed": true,
    "deletable": true,
    "editable": true
   },
   "outputs": [],
   "source": [
    "def conv2d(x, W, b, strides=1):\n",
    "    \"\"\"\" Create Conv2D with bias and relu activation\"\"\"\n",
    "    y = tf.nn.conv2d(x, W, strides=[1, strides, strides, 1], padding='SAME') + b\n",
    "    return tf.nn.relu(y)"
   ]
  },
  {
   "cell_type": "code",
   "execution_count": 8,
   "metadata": {
    "collapsed": true,
    "deletable": true,
    "editable": true
   },
   "outputs": [],
   "source": [
    "def maxpool2d(x, k=2):\n",
    "    \"\"\"\" Create MaxPool2D \"\"\"\n",
    "    return tf.nn.max_pool(x, ksize=[1, k, k, 1],strides=[1, k, k, 1], padding='SAME')"
   ]
  },
  {
   "cell_type": "code",
   "execution_count": 9,
   "metadata": {
    "collapsed": true,
    "deletable": true,
    "editable": true
   },
   "outputs": [],
   "source": [
    "def loss_function(labels, output_layer, coef_reg, reg='l2', coef_reg2=1e-3):\n",
    "    \"\"\" Loss function with softmax implementing L1,L2 and L1+L2 regularization\"\"\"\n",
    "    cross_entropy = tf.reduce_mean(tf.nn.softmax_cross_entropy_with_logits(labels=labels, logits=output_layer))\n",
    "    if (reg == 'l1'):\n",
    "        regularizer = tf.contrib.layers.l1_regularizer(scale=coef_reg)\n",
    "    elif (reg == 'l2'):\n",
    "        regularizer = tf.contrib.layers.l2_regularizer(scale=coef_reg)\n",
    "    else:\n",
    "        l1 = regularizer = tf.contrib.layers.l1_regularizer(scale=coef_reg)\n",
    "        l2 = regularizer = tf.contrib.layers.l2_regularizer(scale=coef_reg2)\n",
    "        regularizer = tf.contrib.layers.sum_regularizer([l1,l2])\n",
    "        \n",
    "    reg_variables = tf.get_collection(tf.GraphKeys.REGULARIZATION_LOSSES)\n",
    "    reg_term = tf.contrib.layers.apply_regularization(regularizer, reg_variables)\n",
    "    reg_loss = cross_entropy + reg_term\n",
    "    return reg_loss"
   ]
  },
  {
   "cell_type": "code",
   "execution_count": 10,
   "metadata": {
    "collapsed": true,
    "deletable": true,
    "editable": true
   },
   "outputs": [],
   "source": [
    "def batch_accuracy(tf_data, data, label, batch_size, prediction):\n",
    "    \"\"\" Creation of a batch version to calculate accuracy for huge validation and testing sets\"\"\"\n",
    "    correct = 0\n",
    "    size = data.shape[0]\n",
    "    # If size / batch_size not an integer than the rest of the Euclidean division \n",
    "    # will be missing --> to avoid that take care to take a batch_size that divide the\n",
    "    # size of the subset of the data that is evaluated\n",
    "    for step in range(size // batch_size): \n",
    "        offset = step * batch_size\n",
    "        batch_test_data = data[offset:(offset + batch_size), :, :, :]\n",
    "        batch_test_labels = label[offset:(offset + batch_size),:]\n",
    "        feed_dict = { tf_data: batch_test_data }\n",
    "        (predictions,) = session.run([prediction],feed_dict=feed_dict)\n",
    "        correct += np.sum(np.argmax(predictions, 1) == np.argmax(batch_test_labels, 1))\n",
    "    accuracy = (100.0 * (correct / float(size)))\n",
    "    return accuracy"
   ]
  },
  {
   "cell_type": "code",
   "execution_count": 25,
   "metadata": {
    "collapsed": false,
    "deletable": true,
    "editable": true,
    "scrolled": false
   },
   "outputs": [],
   "source": [
    "# Data set parameters\n",
    "image_size = 28\n",
    "num_labels = 10\n",
    "num_channels = 1 # grayscale\n",
    "size_train = train_labels.shape[0]\n",
    "\n",
    "# Model parameters\n",
    "num_conv_layer = 2\n",
    "fully_connected = 1024\n",
    "\n",
    "stdev = [0.1,0.1,np.sqrt(2.0/fully_connected),0.1]\n",
    "bias = [0.1,0.1,0.1,0.1]\n",
    "\n",
    "patch_size = [5,5]\n",
    "depth = [32,64]\n",
    "\n",
    "batch_size = 250\n",
    "batch_size_eval = 250\n",
    "\n",
    "coef_reg = 1e-3\n",
    "keep_prob = 0.5\n",
    "\n",
    "graph = tf.Graph()\n",
    "with graph.as_default():\n",
    "    \n",
    "    # Placeholders\n",
    "    # Define placeholder for valid and test to simplify the batch evaluation because of GPU memory problems\n",
    "    tf_train_dataset = tf.placeholder(tf.float32, shape=(batch_size, image_size, image_size, num_channels),\n",
    "                                      name='train_dataset')\n",
    "    tf_train_labels = tf.placeholder(tf.float32, shape=(batch_size, num_labels),\n",
    "                                     name='train_label')\n",
    "\n",
    "    tf_valid_dataset = tf.placeholder(tf.float32, shape=(batch_size_eval, image_size, image_size, num_channels),\n",
    "                                      name='valid_dataset')\n",
    "    tf_test_dataset = tf.placeholder(tf.float32, shape=(batch_size_eval, image_size, image_size, num_channels),\n",
    "                                     name='test_dataset')\n",
    "    \n",
    "    # Weights\n",
    "    W_conv1 = W_var(shape = [patch_size[0], patch_size[0], num_channels, depth[0]],stddev= stdev[0], name = 'W_conv1' )                      \n",
    "    W_conv2 = W_var(shape = [patch_size[1], patch_size[1], depth[0], depth[1]],stddev= stdev[1], name = 'W_conv2' )\n",
    "    W_fc1 = W_var(shape = [(image_size // 2**num_conv_layer) * (image_size // 2**num_conv_layer) * depth[1],fully_connected],stddev= stdev[2], name = 'W_fc1')\n",
    "    W_fc2 = W_var(shape = [fully_connected, num_labels],stddev= stdev[3], name = 'W_fc2' )\n",
    "    \n",
    "    # Add the 2 fully connected layers to regularired list of layers\n",
    "    tf.add_to_collection(tf.GraphKeys.REGULARIZATION_LOSSES, W_fc1)\n",
    "    tf.add_to_collection(tf.GraphKeys.REGULARIZATION_LOSSES, W_fc2) \n",
    "    \n",
    "    # Biases                       \n",
    "    b_conv1 = b_var(shape=[depth[0]], value = bias[0], name= 'b_conv1')                       \n",
    "    b_conv2 = b_var(shape=[depth[1]], value = bias[1], name= 'b_conv2')\n",
    "    b_fc1 = b_var(shape=[fully_connected], value = bias[2], name= 'b_fc1')\n",
    "    b_fc2 = b_var(shape=[num_labels], value = bias[3], name= 'b_fc2')\n",
    "        \n",
    "    weights = {   \n",
    "    'cv1' : W_conv1,\n",
    "    'cv2' : W_conv2,        \n",
    "    'fc1' : W_fc1,\n",
    "    'fc2' : W_fc2\n",
    "    }\n",
    "                             \n",
    "    biases = {   \n",
    "    'cv1' : b_conv1,\n",
    "    'cv2' : b_conv2,        \n",
    "    'fc1' : b_fc1,\n",
    "    'fc2' : b_fc2\n",
    "    }    \n",
    "    \n",
    "    def conv_net(x_in, weights, biases, dropout):\n",
    "        \n",
    "        # Convolution Layer 1\n",
    "        conv1 = conv2d(x_in, weights['cv1'], biases['cv1'])\n",
    "        # Max Pooling 1 (down-sampling by k)\n",
    "        pool1 = maxpool2d(conv1, k=2)\n",
    "                           \n",
    "        # Convolution Layer\n",
    "        conv2 = conv2d(pool1, weights['cv2'], biases['cv2'])\n",
    "        # Max Pooling (down-sampling by k)\n",
    "        pool2 = maxpool2d(conv2, k=2)\n",
    "        \n",
    "        # Reshape for fully connected layer\n",
    "        shape = pool2.get_shape().as_list()\n",
    "        reshape = tf.reshape(pool2, [-1, shape[1] * shape[2] * shape[3]])\n",
    "        \n",
    "        # Fully connected layer 1\n",
    "        fc1 = tf.nn.relu(tf.matmul(reshape,  weights['fc1']) + biases['fc1'])\n",
    "        fc1 = tf.nn.dropout(fc1, dropout)\n",
    "        \n",
    "        # Fully connected layer 2 - Output\n",
    "        y_out = tf.matmul(fc1, weights['fc2']) + biases['fc2']\n",
    "        return y_out                           \n",
    "    \n",
    "    # Prediction\n",
    "    pred = conv_net(tf_train_dataset, weights, biases, keep_prob)\n",
    "    \n",
    "    # Loos\n",
    "    reg_loss = loss_function(tf_train_labels, pred, coef_reg, reg='l2')\n",
    "    \n",
    "    # Optimizer.\n",
    "    optimizer = tf.train.AdamOptimizer(1e-4).minimize(reg_loss)\n",
    "    \n",
    "    # Predictions for the training, validation, and test data.\n",
    "    train_prediction = tf.nn.softmax(pred)\n",
    "    valid_prediction = tf.nn.softmax(conv_net(tf_valid_dataset, weights, biases, dropout = 1))\n",
    "    test_prediction = tf.nn.softmax(conv_net(tf_test_dataset, weights, biases, dropout = 1))"
   ]
  },
  {
   "cell_type": "code",
   "execution_count": 26,
   "metadata": {
    "collapsed": false,
    "deletable": true,
    "editable": true,
    "scrolled": false
   },
   "outputs": [
    {
     "name": "stdout",
     "output_type": "stream",
     "text": [
      "Initialized\n",
      "\n",
      "------Epoch n°1 ------\n",
      "\n",
      "Minibatch loss at step 0: 7.048244\n",
      "Minibatch accuracy: 12.00%\n",
      "Validation accuracy: 12.16%\n",
      "\n",
      "Minibatch loss at step 500: 2.541504\n",
      "Minibatch accuracy: 83.20%\n",
      "Validation accuracy: 86.31%\n",
      "\n",
      "Minibatch loss at step 1000: 2.145658\n",
      "Minibatch accuracy: 87.60%\n",
      "Validation accuracy: 88.15%\n",
      "\n",
      "Minibatch loss at step 1500: 1.831149\n",
      "Minibatch accuracy: 89.60%\n",
      "Validation accuracy: 89.10%\n",
      "\n",
      "\n",
      "------Epoch n°2 ------\n",
      "\n",
      "Minibatch loss at step 2000: 1.584659\n",
      "Minibatch accuracy: 89.20%\n",
      "Validation accuracy: 89.68%\n",
      "\n",
      "Minibatch loss at step 2500: 1.381074\n",
      "Minibatch accuracy: 90.00%\n",
      "Validation accuracy: 90.07%\n",
      "\n",
      "Minibatch loss at step 3000: 1.155787\n",
      "Minibatch accuracy: 91.20%\n",
      "Validation accuracy: 90.46%\n",
      "\n",
      "Minibatch loss at step 3500: 1.045421\n",
      "Minibatch accuracy: 90.00%\n",
      "Validation accuracy: 90.72%\n",
      "\n",
      "\n",
      "------Epoch n°3 ------\n",
      "\n",
      "Minibatch loss at step 4000: 0.975914\n",
      "Minibatch accuracy: 88.00%\n",
      "Validation accuracy: 90.90%\n",
      "\n",
      "Minibatch loss at step 4500: 0.706401\n",
      "Minibatch accuracy: 94.40%\n",
      "Validation accuracy: 91.04%\n",
      "\n",
      "Minibatch loss at step 5000: 0.773729\n",
      "Minibatch accuracy: 89.20%\n",
      "Validation accuracy: 91.20%\n",
      "\n",
      "Minibatch loss at step 5500: 0.656603\n",
      "Minibatch accuracy: 91.60%\n",
      "Validation accuracy: 91.30%\n",
      "\n",
      "\n",
      "------Epoch n°4 ------\n",
      "\n",
      "Minibatch loss at step 6000: 0.631586\n",
      "Minibatch accuracy: 89.20%\n",
      "Validation accuracy: 91.52%\n",
      "\n",
      "Minibatch loss at step 6500: 0.526087\n",
      "Minibatch accuracy: 92.00%\n",
      "Validation accuracy: 91.48%\n",
      "\n",
      "Minibatch loss at step 7000: 0.600819\n",
      "Minibatch accuracy: 90.40%\n",
      "Validation accuracy: 91.68%\n",
      "\n",
      "Minibatch loss at step 7500: 0.552044\n",
      "Minibatch accuracy: 89.20%\n",
      "Validation accuracy: 91.58%\n",
      "\n",
      "\n",
      "------Epoch n°5 ------\n",
      "\n",
      "Minibatch loss at step 8000: 0.466921\n",
      "Minibatch accuracy: 94.00%\n",
      "Validation accuracy: 91.78%\n",
      "\n",
      "Minibatch loss at step 8500: 0.425231\n",
      "Minibatch accuracy: 91.60%\n",
      "Validation accuracy: 91.89%\n",
      "\n",
      "Minibatch loss at step 9000: 0.519177\n",
      "Minibatch accuracy: 90.80%\n",
      "Validation accuracy: 91.95%\n",
      "\n",
      "\n",
      "------Epoch n°6 ------\n",
      "\n",
      "Minibatch loss at step 9500: 0.364276\n",
      "Minibatch accuracy: 92.40%\n",
      "Validation accuracy: 92.05%\n",
      "\n",
      "Minibatch loss at step 10000: 0.411948\n",
      "Minibatch accuracy: 92.40%\n",
      "Validation accuracy: 92.13%\n",
      "\n",
      "Minibatch loss at step 10500: 0.319709\n",
      "Minibatch accuracy: 93.60%\n",
      "Validation accuracy: 92.15%\n",
      "\n",
      "Minibatch loss at step 11000: 0.332212\n",
      "Minibatch accuracy: 92.40%\n",
      "Validation accuracy: 92.35%\n",
      "\n",
      "\n",
      "------Epoch n°7 ------\n",
      "\n",
      "Minibatch loss at step 11500: 0.326482\n",
      "Minibatch accuracy: 93.60%\n",
      "Validation accuracy: 92.35%\n",
      "\n",
      "Minibatch loss at step 12000: 0.356632\n",
      "Minibatch accuracy: 90.40%\n",
      "Validation accuracy: 92.25%\n",
      "\n",
      "Minibatch loss at step 12500: 0.342622\n",
      "Minibatch accuracy: 92.00%\n",
      "Validation accuracy: 92.33%\n",
      "\n",
      "Minibatch loss at step 13000: 0.387154\n",
      "Minibatch accuracy: 90.00%\n",
      "Validation accuracy: 92.36%\n",
      "\n",
      "\n",
      "------Epoch n°8 ------\n",
      "\n",
      "Minibatch loss at step 13500: 0.267225\n",
      "Minibatch accuracy: 95.20%\n",
      "Validation accuracy: 92.51%\n",
      "\n",
      "Minibatch loss at step 14000: 0.336432\n",
      "Minibatch accuracy: 94.00%\n",
      "Validation accuracy: 92.47%\n",
      "\n",
      "Minibatch loss at step 14500: 0.257902\n",
      "Minibatch accuracy: 94.40%\n",
      "Validation accuracy: 92.60%\n",
      "\n",
      "Minibatch loss at step 15000: 0.279643\n",
      "Minibatch accuracy: 93.60%\n",
      "Validation accuracy: 92.62%\n",
      "\n",
      "\n",
      "------Epoch n°9 ------\n",
      "\n",
      "Minibatch loss at step 15500: 0.414474\n",
      "Minibatch accuracy: 88.80%\n",
      "Validation accuracy: 92.73%\n",
      "\n",
      "Minibatch loss at step 16000: 0.348292\n",
      "Minibatch accuracy: 93.60%\n",
      "Validation accuracy: 92.67%\n",
      "\n",
      "Minibatch loss at step 16500: 0.242644\n",
      "Minibatch accuracy: 94.40%\n",
      "Validation accuracy: 92.64%\n",
      "\n",
      "\n",
      "------Epoch n°10 ------\n",
      "\n",
      "Minibatch loss at step 17000: 0.284723\n",
      "Minibatch accuracy: 93.20%\n",
      "Validation accuracy: 92.75%\n",
      "\n",
      "Minibatch loss at step 17500: 0.287894\n",
      "Minibatch accuracy: 93.60%\n",
      "Validation accuracy: 92.73%\n",
      "\n",
      "Minibatch loss at step 18000: 0.250853\n",
      "Minibatch accuracy: 94.40%\n",
      "Validation accuracy: 92.80%\n",
      "\n",
      "Minibatch loss at step 18500: 0.292009\n",
      "Minibatch accuracy: 92.80%\n",
      "Validation accuracy: 92.83%\n",
      "\n",
      "\n",
      "------Epoch n°11 ------\n",
      "\n",
      "Minibatch loss at step 19000: 0.350737\n",
      "Minibatch accuracy: 92.00%\n",
      "Validation accuracy: 92.92%\n",
      "\n",
      "Minibatch loss at step 19500: 0.356117\n",
      "Minibatch accuracy: 92.00%\n",
      "Validation accuracy: 92.80%\n",
      "\n",
      "Minibatch loss at step 20000: 0.272034\n",
      "Minibatch accuracy: 92.80%\n",
      "Validation accuracy: 92.78%\n",
      "\n",
      "Minibatch loss at step 20500: 0.276795\n",
      "Minibatch accuracy: 94.00%\n",
      "Validation accuracy: 92.87%\n",
      "\n",
      "\n",
      "------Epoch n°12 ------\n",
      "\n",
      "Minibatch loss at step 21000: 0.286281\n",
      "Minibatch accuracy: 95.20%\n",
      "Validation accuracy: 93.03%\n",
      "\n",
      "Minibatch loss at step 21500: 0.332669\n",
      "Minibatch accuracy: 91.60%\n",
      "Validation accuracy: 93.03%\n",
      "\n",
      "Minibatch loss at step 22000: 0.245777\n",
      "Minibatch accuracy: 93.20%\n",
      "Validation accuracy: 92.92%\n",
      "\n",
      "Minibatch loss at step 22500: 0.304242\n",
      "Minibatch accuracy: 92.80%\n",
      "Validation accuracy: 93.05%\n",
      "\n",
      "Test accuracy: 96.4%\n",
      "Time: 526.82s\n"
     ]
    }
   ],
   "source": [
    "n_epoch = 12\n",
    "n_step_one_epoch = int(size_train / batch_size)\n",
    "num_steps = int(n_epoch * n_step_one_epoch)\n",
    "t1 = time.time()   \n",
    "\n",
    "num_epoch = 1\n",
    "with tf.Session(graph=graph) as session:\n",
    "    tf.global_variables_initializer().run()\n",
    "    print('Initialized')\n",
    "    for step in range(num_steps):\n",
    "        if ( step % n_step_one_epoch == 0 ):\n",
    "            print('\\n------Epoch n°%d ------\\n' % num_epoch)\n",
    "            num_epoch +=1\n",
    "        offset = (step * batch_size) % (train_labels.shape[0] - batch_size)\n",
    "        batch_data = train_dataset[offset:(offset + batch_size), :, :, :]\n",
    "        batch_labels = train_labels[offset:(offset + batch_size), :]\n",
    "        feed_dict = {tf_train_dataset : batch_data,  tf_train_labels : batch_labels} #\n",
    "        _ = session.run([optimizer], feed_dict=feed_dict)\n",
    "        if (step % 500 == 0):\n",
    "            l, predictions = session.run([reg_loss, train_prediction], feed_dict=feed_dict)\n",
    "            print('Minibatch loss at step %d: %f' % (step, l))\n",
    "            correct_prediction = tf.equal(tf.argmax(predictions,1), tf.argmax(batch_labels,1))\n",
    "            accuracy2 = tf.reduce_mean(tf.cast(correct_prediction, tf.float32))\n",
    "            print('Minibatch accuracy: %.2f%%' % (100*accuracy2.eval()))\n",
    "            # Update to run validation with batch\n",
    "            print('Validation accuracy: %.2f%%' % (batch_accuracy(tf_data = tf_valid_dataset, data = valid_dataset, \n",
    "                                                                    label = valid_labels,\n",
    "                                                                    batch_size = batch_size_eval, prediction = valid_prediction)))\n",
    "            print()\n",
    "    print('Test accuracy: %.1f%%' % (batch_accuracy(tf_data = tf_test_dataset, data = test_dataset, \n",
    "                                                                    label = test_labels,\n",
    "                                                                    batch_size = batch_size_eval, prediction = test_prediction)))\n",
    "t2 = time.time()\n",
    "print(\"Time: %0.2fs\" % (t2 - t1))"
   ]
  },
  {
   "cell_type": "markdown",
   "metadata": {
    "deletable": true,
    "editable": true
   },
   "source": [
    "## Advanced Convolution network"
   ]
  },
  {
   "cell_type": "code",
   "execution_count": null,
   "metadata": {
    "collapsed": true,
    "deletable": true,
    "editable": true
   },
   "outputs": [],
   "source": []
  }
 ],
 "metadata": {
  "kernelspec": {
   "display_name": "Python 3",
   "language": "python",
   "name": "python3"
  },
  "language_info": {
   "codemirror_mode": {
    "name": "ipython",
    "version": 3
   },
   "file_extension": ".py",
   "mimetype": "text/x-python",
   "name": "python",
   "nbconvert_exporter": "python",
   "pygments_lexer": "ipython3",
   "version": "3.5.3"
  }
 },
 "nbformat": 4,
 "nbformat_minor": 2
}
